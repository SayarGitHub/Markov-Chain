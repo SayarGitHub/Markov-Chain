{
 "cells": [
  {
   "cell_type": "markdown",
   "metadata": {},
   "source": [
    "# Distance based Transition Matrix"
   ]
  },
  {
   "cell_type": "code",
   "execution_count": 1,
   "metadata": {},
   "outputs": [],
   "source": [
    "import random\n",
    "\n",
    "import numpy as np\n",
    "import pandas as pd"
   ]
  },
  {
   "cell_type": "code",
   "execution_count": 2,
   "metadata": {},
   "outputs": [
    {
     "name": "stdout",
     "output_type": "stream",
     "text": [
      "      0    1     2     3    4      5       6      7      8      9    ...  468  \\\n",
      "0      E5  7.0  7.11  11.4  4.7    0.5     0.5    7.0     E5    7.0  ...  NaN   \n",
      "1       4  7.0     7     2  2.7      7       4      2    4.9      0  ...  NaN   \n",
      "2     7.0   E4    C4   2.7   B3     C4     0.5     E4     C4    2.7  ...  NaN   \n",
      "3      C5  7.0    G4    D5   G4     E5     7.0     G4     D5     G4  ...  NaN   \n",
      "4     7.0   C5    E5    C5   D5    2.7      D5     E5    4.9     A4  ...  NaN   \n",
      "5      A4  0.5    A4    A4   A4     G4     7.0     C4    4.9     G3  ...  NaN   \n",
      "6     4.9   E5   4.9    E5   D5      4     4.7     E5     D5      4  ...  NaN   \n",
      "7      C5  0.5    C5    C5  9.2     A4      E5     D5     C5     B4  ...  NaN   \n",
      "8     4.7  7.0    G3    E4   E4     E4      E4     D4     F4    9.2  ...  NaN   \n",
      "9   0.4.7  7.0    G4    A4  7.0     E4  7.11.2    2.7     G4  0.2.7  ...  NaN   \n",
      "10    7.0  4.9   9.0   0.5  7.0    0.4      C3     E3    7.0    4.9  ...  NaN   \n",
      "11    9.2   G5    E5    G5  2.7     E5      G5     E5     D5    7.0  ...  NaN   \n",
      "12     C4  4.9    C4    C4  4.9  5.9.0     0.5  5.9.0  5.9.0    0.5  ...  NaN   \n",
      "13    4.7   C2    C3   4.7   C3    4.7      C3   7.11     E2     C3  ...  NaN   \n",
      "14    0.5   C5    C5    D5   E5     D5      C5     D5     E5    2.7  ...  NaN   \n",
      "15     G4  7.0    G4    G4  7.0     G4      A4    4.9     A4     A4  ...  NaN   \n",
      "16    4.9   C5    D5    E5  2.7     E5      E5     G5     D5     D5  ...  NaN   \n",
      "17     E5  7.0    C5    C5   C5     C5      C5    7.0     C5     D5  ...   F4   \n",
      "18    7.0   C5    C5    C5   A4     G4      A4    2.7     G4     G4  ...  NaN   \n",
      "19    7.0   E5    D5   2.7   E5     C5     4.9     E5     F4    0.5  ...  NaN   \n",
      "\n",
      "    469  470  471  472  473  474  475  476 477  \n",
      "0   NaN  NaN  NaN  NaN  NaN  NaN  NaN  NaN NaN  \n",
      "1   NaN  NaN  NaN  NaN  NaN  NaN  NaN  NaN NaN  \n",
      "2   NaN  NaN  NaN  NaN  NaN  NaN  NaN  NaN NaN  \n",
      "3   NaN  NaN  NaN  NaN  NaN  NaN  NaN  NaN NaN  \n",
      "4   NaN  NaN  NaN  NaN  NaN  NaN  NaN  NaN NaN  \n",
      "5   NaN  NaN  NaN  NaN  NaN  NaN  NaN  NaN NaN  \n",
      "6   NaN  NaN  NaN  NaN  NaN  NaN  NaN  NaN NaN  \n",
      "7   NaN  NaN  NaN  NaN  NaN  NaN  NaN  NaN NaN  \n",
      "8   NaN  NaN  NaN  NaN  NaN  NaN  NaN  NaN NaN  \n",
      "9   NaN  NaN  NaN  NaN  NaN  NaN  NaN  NaN NaN  \n",
      "10  NaN  NaN  NaN  NaN  NaN  NaN  NaN  NaN NaN  \n",
      "11  NaN  NaN  NaN  NaN  NaN  NaN  NaN  NaN NaN  \n",
      "12  NaN  NaN  NaN  NaN  NaN  NaN  NaN  NaN NaN  \n",
      "13  NaN  NaN  NaN  NaN  NaN  NaN  NaN  NaN NaN  \n",
      "14  NaN  NaN  NaN  NaN  NaN  NaN  NaN  NaN NaN  \n",
      "15  NaN  NaN  NaN  NaN  NaN  NaN  NaN  NaN NaN  \n",
      "16  NaN  NaN  NaN  NaN  NaN  NaN  NaN  NaN NaN  \n",
      "17  0.5   F5   E5  2.7   D5   C5   D5   C5 NaN  \n",
      "18  NaN  NaN  NaN  NaN  NaN  NaN  NaN  NaN NaN  \n",
      "19  NaN  NaN  NaN  NaN  NaN  NaN  NaN  NaN NaN  \n",
      "\n",
      "[20 rows x 478 columns]\n"
     ]
    }
   ],
   "source": [
    "# Input\n",
    "data_file = \"POPmusic.csv\"\n",
    "\n",
    "# Delimiter\n",
    "data_file_delimiter = ','\n",
    "\n",
    "# The max column count a line in the file could have\n",
    "largest_column_count = 0\n",
    "\n",
    "# Loop the data lines\n",
    "with open(data_file, 'r') as temp_f:\n",
    "    # Read the lines\n",
    "    lines = temp_f.readlines()\n",
    "\n",
    "    for l in lines:\n",
    "        # Count the column count for the current line\n",
    "        column_count = len(l.split(data_file_delimiter)) + 1\n",
    "\n",
    "        # Set the new most column count\n",
    "        largest_column_count = column_count if largest_column_count < column_count else largest_column_count\n",
    "\n",
    "# Close file\n",
    "temp_f.close()\n",
    "\n",
    "# Generate column names (will be 0, 1, 2, ..., largest_column_count - 1)\n",
    "column_names = [i for i in range(0, largest_column_count)]\n",
    "\n",
    "# Read csv\n",
    "df = pd.read_csv(data_file, header=None, delimiter=data_file_delimiter, names=column_names)\n",
    "print(df)"
   ]
  },
  {
   "cell_type": "code",
   "execution_count": 3,
   "metadata": {
    "tags": []
   },
   "outputs": [],
   "source": [
    "# Function to generate a list of unique notes and chords from the dataframe\n",
    "def unique(df):\n",
    "    main_list = []\n",
    "    for i in range(len(df)):\n",
    "        tlist = df.iloc[i].to_list()  # a song is picked from dataframe\n",
    "        cleaned_list = [x for x in tlist if str(x) != 'nan']  # removing nan values\n",
    "        main_list += cleaned_list  # all songs joined into a single list\n",
    "    main_list = [str(x) for x in main_list]  # converting some integers and floats to string\n",
    "    return list(set(main_list))  # only unique chords and notes are returned"
   ]
  },
  {
   "cell_type": "code",
   "execution_count": 4,
   "metadata": {},
   "outputs": [],
   "source": [
    "# Function returns a clean list\n",
    "def clean(tlist):\n",
    "    tlist = [str(x) for x in tlist]\n",
    "    return [x for x in tlist if str(x) != 'nan']"
   ]
  },
  {
   "cell_type": "code",
   "execution_count": 5,
   "metadata": {},
   "outputs": [
    {
     "name": "stdout",
     "output_type": "stream",
     "text": [
      "65\n"
     ]
    }
   ],
   "source": [
    "unique_list = unique(df)\n",
    "print(len(unique_list))"
   ]
  },
  {
   "cell_type": "code",
   "execution_count": 6,
   "metadata": {},
   "outputs": [],
   "source": [
    "# Function to generate transition matrix\n",
    "def trans_matrix_gen(tlist, df):\n",
    "    trans_matrix = np.zeros((len(tlist), len(tlist)))\n",
    "    # the average distance between all pssible combinations of unique notes and chords is found\n",
    "    for l1 in tlist:\n",
    "        for l2 in tlist:\n",
    "            c = 0  # acts as a counter in how many songs a combination exists\n",
    "            avg_dist_total = 0  # the average distace between two unique notes or chords over all songs where they are found\n",
    "            for i in range(len(df)):\n",
    "                pos2 = 0\n",
    "                avg_dist = 0  # the average distace between two unique notes or chords over a song\n",
    "                k = 0  # counter for number of times a distance is calculated\n",
    "                song = clean(df.iloc[i].to_list())  # cleaning the song\n",
    "                if l1 in song and l2 in song:\n",
    "                    if l1 != l2:  # case for different notes or chords\n",
    "                        c += 1  # since both are found we increase the presence counter\n",
    "                        pos1 = np.where(np.array(song) == l1)[0]  # the array stores the indices where l1 is found\n",
    "                        start = np.min(pos1) + 1  # we search for l2 after the minimum index of l1\n",
    "                        while pos2 < len(\n",
    "                                song):  # we break from the loop if the position for l2 reaches end of list or we are unable to find any more\n",
    "                            try:\n",
    "                                pos2 = song.index(l2, start)\n",
    "                                x = pos2 - pos1\n",
    "                                dist = np.min(np.where(x >= 0, x, np.inf))  # minimum positive distance is stored\n",
    "                                avg_dist += dist  # for now we just add the distances\n",
    "                                k += 1  # we increase the measurement couter\n",
    "                            except ValueError:\n",
    "                                break\n",
    "                            # start position for next search is moved to just next to where we found l2\n",
    "                            start = pos2\n",
    "                            start += 1\n",
    "                        if k != 0:\n",
    "                            avg_dist = avg_dist / k  # average distance in a song\n",
    "                        avg_dist_total += avg_dist  # for now we add the distance\n",
    "\n",
    "                    else:  # case for same notes or chords\n",
    "                        c += 1\n",
    "                        pos1 = song.index(l1)\n",
    "                        start = pos1 + 1\n",
    "                        while pos1 < len(song) - 1 and pos2 < len(song):\n",
    "                            try:\n",
    "                                pos2 = song.index(l2, start)\n",
    "                                dist = pos2 - pos1\n",
    "                                avg_dist += dist\n",
    "                                k += 1\n",
    "                                pos1 = pos2  # if there are 3 times the same chord or note we want the distance between 1st and 2nd, and 2nd and 3rd\n",
    "                            except ValueError:\n",
    "                                break\n",
    "                            start = pos2\n",
    "                            start += 1\n",
    "                        if k != 0:\n",
    "                            avg_dist = avg_dist / k\n",
    "                        avg_dist_total += avg_dist\n",
    "\n",
    "            if c != 0:\n",
    "                avg_dist_total = avg_dist_total / c  # average distance of a combination over all songs where they are bound\n",
    "            if avg_dist_total != 0:\n",
    "                trans_matrix[tlist.index(l1)][tlist.index(\n",
    "                    l2)] = 1 / avg_dist_total  # 1/d is taken so higher distance gives lower transition probabilty\n",
    "\n",
    "    for i in range(len(tlist)):\n",
    "        trans_matrix[i] = trans_matrix[i] / np.sum(trans_matrix[i])  # dividing by sum to convert to probability\n",
    "    return trans_matrix"
   ]
  },
  {
   "cell_type": "code",
   "execution_count": 7,
   "metadata": {},
   "outputs": [],
   "source": [
    "transition_matrix = trans_matrix_gen(unique_list, df)"
   ]
  },
  {
   "cell_type": "code",
   "execution_count": 8,
   "metadata": {},
   "outputs": [
    {
     "name": "stdout",
     "output_type": "stream",
     "text": [
      "[[0.05393531 0.00415686 0.         ... 0.00500637 0.00583715 0.06741914]\n",
      " [0.01634921 0.01315953 0.12261908 ... 0.01034499 0.01246193 0.01362434]\n",
      " [0.         0.02261703 0.01475616 ... 0.03262837 0.02297518 0.        ]\n",
      " ...\n",
      " [0.00620709 0.00808172 0.00610364 ... 0.01133966 0.00869674 0.00590675]\n",
      " [0.00540139 0.00745072 0.03330857 ... 0.00824465 0.0058287  0.00499629]\n",
      " [0.47776861 0.00725265 0.         ... 0.00870781 0.01012222 0.        ]]\n"
     ]
    }
   ],
   "source": [
    "print(transition_matrix)"
   ]
  },
  {
   "cell_type": "code",
   "execution_count": 9,
   "metadata": {},
   "outputs": [
    {
     "name": "stdout",
     "output_type": "stream",
     "text": [
      "0.6567742523038305 0.0\n",
      "1.0\n",
      "0.1780576751139864 0.0\n"
     ]
    }
   ],
   "source": [
    "print(np.max(transition_matrix), np.min(transition_matrix))\n",
    "print(np.sum(transition_matrix[12]))\n",
    "print(np.max(transition_matrix[2]), np.min(transition_matrix[2]))"
   ]
  },
  {
   "cell_type": "code",
   "execution_count": 10,
   "metadata": {},
   "outputs": [],
   "source": [
    "# Function to make music\n",
    "def music_gen(tlist, trans_matrix, length):\n",
    "    music = [random.choice(tlist)]  # first note or chord is randomly chosen from the unique_list\n",
    "    c = 0\n",
    "    while c < length:\n",
    "        i = tlist.index(music[c])  # we find the index of current note or chord in unique_list\n",
    "        music.append(random.choices(tlist, weights=list(trans_matrix[i]), k=1)[\n",
    "                         0])  # the row in transition matrix corresponding to the index we found contains all the transition probabilities\n",
    "        c += 1\n",
    "    return music"
   ]
  },
  {
   "cell_type": "code",
   "execution_count": 11,
   "metadata": {},
   "outputs": [
    {
     "name": "stdout",
     "output_type": "stream",
     "text": [
      "['5.11', 'C4', 'G3', 'B3', 'F2', '4.9', 'A5', '9.0', '9.0', '11.2', '2.4.9', 'F5', 'C3', '7.11', 'C4', '9.2', 'B5', 'E3', 'D6', '7.0', '9', '11.2', '2.4.9', '5.9.0', 'E5', 'F2', 'B3', 'B3', '5.7', '11.2', '2.4.9', '5.9.0', '4.9', '2.4.9', 'G4', '0.4', '2.4.9', '9.0.2', '0.4.7', '9', '2.5', 'G3', 'B3', '0.4', 'A2', '7.11', 'G4', '4.7', 'C2', '4.7', '9.0', '0.4.7', '7.11', '7', '11.4', '4', '5.9', 'B3', 'C2', 'B3', 'C4', '5.11', '7.0', 'F5', 'G3', 'A3', 'E3', '9.2', '9.0.4', 'E5', '0.2', '7.11.2', 'A4', 'A5', 'A2', '7.0', '2.4', '7.0', '5.7.0', 'C4', 'A3', 'D5', '9.0.4', '9.2', 'B5', 'D6', 'C6', 'E6', 'D5', '9.0.2', 'D5', '5', '4.7', 'B-3', 'B3', '7.0', '7.0', '5.7.0', '0.5', '5.11', '0.5', '5.11', 'F4', '11.2', '2.4.9', '11.2', '2.4.9', '5.9.0', '2.5.9', '2.4.9', '5.9.0', '0.4.7', 'B4', 'F5', 'D6', '0.2', '5.9', 'F2', 'B-3', 'B3', 'C2', 'F2', 'B3', 'F2', 'B3', 'C3', 'E4', '5.7', '5.11', 'G3', 'F3', 'F3', 'E3', '5.9', '9.2', 'F5', 'D6', 'C6', 'B4', '11', 'A4', '7.11', 'E2', 'G4', '7', '11', '7', '2', '10', '11.4', 'G5', 'G3', 'E4', '11.2', '2.4.9', '5.9.0', 'C5', '5.9.0', 'B4', '11.4', '7.11.2', '11.2', '2.4.9', '5.9.0', '9.0.4', '11.2', '9.0', 'C3', 'G3', 'F3', 'E3', 'C6', '2', '7.11', '0', '9', '11', '11', '9', '7.0', '5', '2.5', '5', '5', '4', 'G4', 'B3', '4.7', '4.7', 'C2', 'F2', 'C2', '4.7', '5', '4', '4.7', 'C2', '4.7', 'E2', 'F2', 'B-3', 'F2', '4.7', '4.9', 'E6', 'C5', '5.9.0', 'G5', 'A5', '9.0', 'E5', 'F2', 'B-3', 'B3', '7.11', 'A3', 'G3', '0.5', '5.11', 'C4', '5.9.0', '9.0.2', '0.5', '5.7', 'C4', 'A3', 'B4', '10', 'G4', '0.2.7', '5.9', 'B3', 'A3', 'G3', 'B3', 'A3', 'C4', 'B3', 'A3', '2.7', 'B3', 'E3', 'G5', '7.11.2', '0.2.7', '5.9.0', '9.0.2', 'A5', 'D5', 'A5', 'E3', 'A5', 'A2', 'E5', '0.4.7', 'E3', '4.7', 'E2', 'E2', 'C2', 'E2', '4.7', 'C2', '4.9', 'B3', 'C2', '7.11', 'E2', 'F2', 'B-3', 'C2', 'G4', '9', '11.4', '7.9', '11.2', 'B5', '7.0', 'F4', '0', '5', '5', '2.5', '5', '4', '7.0', '7.11', 'F2', 'E2', '5.9', '0.4', 'B4', '0', '9', '10', '11', '11', '9', '10', '2.5', 'G3', '4.9', '9.0', '11.2', '2.4.9', 'C4', 'B3', '4.7', '7.11', '4.7', 'C2', 'E2', 'F2', '0.5', 'E6', '4.9', '2.4', '9.2', '7.11.2', '0.4', '2.4.9', '5.9.0', 'A5', 'B-5', 'E6', 'C5', '5.9.0', 'F5', '5', '2.5', 'G3', 'A3', 'E3', '0.4.7', '5.9', '2.4.9', 'E4', 'E5', 'B5', 'B4', '4.7', '11.4', '5.9', '9.2', 'B5', '0.2', '11.4', '4.9', '11', '10', '11', '11.4', '11.2', '2.4.9', '5.9.0', '2.7', 'B5', 'E5', 'A3', 'G3', '9.2', 'D5', 'E-5', 'C5', '0.2.7', '0.4.7', 'D5', 'G3', 'F3', 'E3', 'B5', '5.9', '11.2', '5.9.0', 'B4', '0', '9', '10', '11', '7', '10', '11', '2.5', '2.4', '7.0', '10', 'F5', 'G3', 'E3', '0.4.7', '0.2.7', '11.2', '2.4.9', '5.9.0', '2.5.9', 'F4', 'F4', '9.0.4', '9.2', '9.0', '11.2', '5.9.0', 'E4', '5.7', '5.11', 'C4', '2.4', 'D5', '0.5', 'F2', 'B-3', 'B3', '5.7', '5.11', 'B3', 'C3', '4.7', 'E2', '5.9', 'F2', 'B-3', '4.7', '0.2', 'G5', '0.2', '7.11.2', 'G5', '7.9', '5.9', 'C4', '2.4', 'E4', 'D4', 'F4', '0', '9', '2.5', 'G3', '2', '0.4', '2.4.9', '5.9.0', '0.4', '9.2', 'D4', 'G3', 'E4', 'A5', 'A2', 'E3', 'A5', '7.0', '9.2', '11.4', 'B5', 'B4', 'E4', '2.4.9', '5.9.0', '5.9', '9.2', '9.0', '2', '4.9', '11', '10', '11', '4.9', '11', '7', '10', '11.4', '0.5', '2.5.9', 'F4', 'E3', '0.4.7', '5.7.0', '7.11', 'F2', 'B3', 'E2', 'F2', '7.11', '11', '11', '4.7', 'C3', '7.11', 'E2', 'G4', 'F4', '5.9', 'B3', 'A3', '2.4', 'E4', '2.5.9', 'G5', 'B-5', 'B-5', 'B-5', 'C6', 'B4', 'G3', 'E3', 'E3', '0.4', 'C3', '4.7', 'C2', '4.7', 'E2', '5.9', '9', '10', '11', '4.9', '0', '4', 'C6', '4', '0.4', 'G5', '7.11', 'E2', '5.9', 'F2', 'G3', '2.5', '7.11', '2.5', '11', '10', '11', '11.4', '9.0', 'C3', '5.9', '9.2', 'B5', '7.11.2', '9.2', 'G5', 'E6', 'A4', '11', '9', '2.7', '5.7', 'B3', 'C2', '0.5', '5.9.0', 'B4', '9', '10', '11', '9', '2.5', 'D4', '7.11', 'C2', '0.5', '0.2', '7.11.2', '9.0.2', '2.4.9', 'A5', 'B-5', 'G5', '2', '2', '0', '0', '11', 'G4', '2.7', 'A5', 'B-5', 'C6', '7', '0.4', '2.4.9', '2.7', 'B3', '4.7', '5.9.0', '9.2', 'D5', '9.0.2', 'F5', 'C5', 'F5', 'D4', 'G3', 'E3', 'B5', 'D6', 'C6', 'E6', '2.7', '9.0.2', '7.11.2', 'C6', '0', '7.11', '5', '5', '2.5', '5', 'A5', 'A2', '7.11', 'G5', '5.9', 'C2', '4.7', 'C2', '7.11', 'G3', '2.4', 'E4', '0.5', '5.7', 'B3', '7.11', 'E2', '0.5', '2', '2.4', 'E4', '7.11.2', '4.7', 'C2', 'B-3', 'E4', '5.11', '0.4', '2.4.9', '2.7', 'B3', 'E3', '4.7', 'C2', '7.11', '9', '11', '11.4', 'B4', '10', '11', '4.9', '11', '11.4', '4.9', '2.5.9', 'F4', 'C5', 'A3', 'D4', 'F5', '0.5', '4', '4', '10', 'G4', '0.2.7', '2.7', '2.5.9', '4.7', '5', '4.7', 'C2', '5.9', '7', '11', '11', 'G5', 'B-5', 'A5', 'A2', '0.4', 'G3', '2', '4', 'B4', '7', '11', '4.9', 'G4', '9', '11.4', '9.0', 'C6', '7.9', '9.2', '11.2', 'E5', 'A3', 'E3', '5.9', '11', '11.4', '5.9', 'F2', '5.9', '7', '11.4', '7.11', '9.2', '2.7', 'B3', '9.2', 'A2', 'E3', '5.9', 'B5', 'G5', 'B-5', 'E-5', '2.7', '5.11', 'C4', 'F3', 'F3', 'E3', 'D4', 'G3', 'E4', 'B3', 'F4', '0', '11.4', '7.9', 'D5', 'G3', 'A3', 'F3', 'E3', 'C6', 'E6', 'E-5', 'D5', '9.0.2', 'F4', '0', 'E4', '5.7', '0.5', '0', 'E4', '7.11.2', '7.11', '9', '10', '11.4', '7.9', 'B4', '10', '11.4', '2.5', '2.4', 'E4', '2', 'B4', '0', 'F4', '0', '11.4', '4.9', '11', '2.5', '5', '4.7', 'F4', '4.7', 'C2', 'C3', 'E2', '4.7', 'C2', '4.7', 'D6', '9.2', '4.7', 'C3', '4.7', 'C2', 'E2', 'E4', '5.7', '5.11', 'F4', '2.4.9', '5.7.0', '11.2', '2.4.9', '5.9.0', '5.7.0', 'F4', '0.5', 'G5', 'C4', 'F3', 'F3', 'F3', 'B3', 'B-3', 'B3', '4.7', 'E4', '5.7', 'C4', 'A3', 'D4', 'C5', '0.2.7', 'F4', '5.7', '5.11', '0.4', '5.9.0', '2.5.9', '11.2', '2.4.9', '0.5', '7.0', '11.2', '2.4.9', '5.9.0', '5.9', 'C2', '5.9', 'E5', 'A5', 'E6', '2.7', 'F4', '4.9', '2.4.9', '5.9.0', 'B4', 'G3', 'F3', 'E3', 'D6', '7.0', '2.5.9', 'G5', 'A4', '2.5', '2.4', 'E4', '0.4', 'C3', '5.9', 'F2', 'B-3', 'B3', '5.11', 'B3', '7.11', 'B3', 'C2', 'F2', 'B-3', 'C2', 'F2', 'B3', 'C3', 'B3', 'C2', 'E2', '5.9', '0', '2.5', '2.4', 'E4', '5.7', '5.11', 'C4', 'C4', 'E3', 'E4', 'A3', 'C4', '5.9.0', '0.4', 'D5', '9.0.2', '4.7', '11.4', '9.0', 'D5', 'A3', 'G4', 'E3', 'C6', '9', '2.5', '2.4', 'E4', 'A3', 'E3', 'E3', 'D4', 'A3', 'G3', 'B3', 'C4', 'G3', 'E4', '7.11.2', '5.9.0', '0.2.7', '5.9.0', 'B4', '10', '11.4', '7.0', '11.2', '0.5', '4.9', 'D6', '4.7', 'C2', '7.11', '4', '5.9', '0.4', 'C3', '5.9', 'F2', 'B3', 'E2', 'B3', 'F2', '0.5', '7.0', 'A4', 'E3', 'E3', 'A5', 'B-5', 'A4', '2.4', 'E4', 'E4', '5.7', '0.4', 'B5', 'A5', 'B4', '0', '10', '11', '10', '11', '4.7', 'C2', 'C3', 'E3', '0.4', 'B5', 'C6', '7.9', '9.2', 'B3', '9.2', 'F4', '0', '5', '2.5', 'G3', '2', 'E4', '2.4.9', 'G5', 'A2', 'C5', '2.4.9', 'G4', '0.2.7', 'A5', '2.4.9', '2.5.9', 'D5', 'E5', '9.0', '9.0', 'E4', '5.7', '5.11', 'F4', 'A5', 'A2', 'E4', '5.7.0', '2.4.9', '11.2']\n"
     ]
    }
   ],
   "source": [
    "print(music_gen(unique_list, transition_matrix, 1000))"
   ]
  },
  {
   "cell_type": "code",
   "execution_count": 12,
   "metadata": {},
   "outputs": [
    {
     "name": "stdout",
     "output_type": "stream",
     "text": [
      "     0      1      2     3      4    5      6      7      8     9    ...  \\\n",
      "0    5.7     E4   5.11    G3     E3   G5    4.7     E2     F2   B-3  ...   \n",
      "1  5.9.0     C4     G3  11.2  2.4.9  7.0  5.7.0  9.0.4    9.0    C6  ...   \n",
      "2    7.0   5.11     F4   4.9  9.0.4  9.2    5.9      7     E5    C6  ...   \n",
      "3  9.0.4   11.2  5.7.0    G4      9  2.5    2.4     E4    5.7  5.11  ...   \n",
      "4  0.4.7  5.7.0  2.5.9   7.0  9.0.4  4.9     E6    2.7  5.7.0   4.9  ...   \n",
      "\n",
      "    191     192    193    194 195    196    197  198    199     200  \n",
      "0    D6     9.0     E4  5.7.0  G4  0.2.7  2.5.9  0.5    0.2  7.11.2  \n",
      "1   9.2      B3     A4     E4  D4    2.5     A3  2.7  2.5.9     4.7  \n",
      "2    C2      C3     F2     C2  B3     F4   5.11   B3    4.9     9.0  \n",
      "3  11.4     5.9      4     F5   9     10      5  2.5      5     2.5  \n",
      "4   2.7  7.11.2  2.5.9  0.2.7  C5    0.4   7.11    5    2.5       5  \n",
      "\n",
      "[5 rows x 201 columns]\n"
     ]
    }
   ],
   "source": [
    "num_songs = 5\n",
    "songs = []\n",
    "\n",
    "# A bunch of songs are created and put into a dataframe\n",
    "for _ in range(num_songs):\n",
    "    songs.append(music_gen(unique_list, transition_matrix, 200))\n",
    "df2 = pd.DataFrame(songs)\n",
    "print(df2)\n",
    "df2.to_csv(\"dist_method_songs.csv\")"
   ]
  },
  {
   "cell_type": "code",
   "execution_count": null,
   "metadata": {},
   "outputs": [],
   "source": []
  }
 ],
 "metadata": {
  "kernelspec": {
   "display_name": "Python 3",
   "language": "python",
   "name": "python3"
  },
  "language_info": {
   "codemirror_mode": {
    "name": "ipython",
    "version": 3
   },
   "file_extension": ".py",
   "mimetype": "text/x-python",
   "name": "python",
   "nbconvert_exporter": "python",
   "pygments_lexer": "ipython3",
   "version": "3.8.5"
  }
 },
 "nbformat": 4,
 "nbformat_minor": 4
}
